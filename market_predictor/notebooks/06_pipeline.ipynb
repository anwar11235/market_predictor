{
  "nbformat": 4,
  "nbformat_minor": 0,
  "metadata": {
    "colab": {
      "provenance": [],
      "authorship_tag": "ABX9TyPN2eq68mF8YOvowuzGeY3B",
      "include_colab_link": true
    },
    "kernelspec": {
      "name": "python3",
      "display_name": "Python 3"
    },
    "language_info": {
      "name": "python"
    }
  },
  "cells": [
    {
      "cell_type": "markdown",
      "metadata": {
        "id": "view-in-github",
        "colab_type": "text"
      },
      "source": [
        "<a href=\"https://colab.research.google.com/github/anwar11235/market_predictor/blob/main/market_predictor/notebooks/06_pipeline.ipynb\" target=\"_parent\"><img src=\"https://colab.research.google.com/assets/colab-badge.svg\" alt=\"Open In Colab\"/></a>"
      ]
    },
    {
      "cell_type": "code",
      "execution_count": 1,
      "metadata": {
        "colab": {
          "base_uri": "https://localhost:8080/"
        },
        "id": "eu77xhskvnZ5",
        "outputId": "09ce991c-d780-49f5-f99e-1d463ff72550"
      },
      "outputs": [
        {
          "output_type": "stream",
          "name": "stdout",
          "text": [
            "Cloning into 'market_predictor'...\n",
            "remote: Enumerating objects: 1527, done.\u001b[K\n",
            "remote: Counting objects: 100% (1527/1527), done.\u001b[K\n",
            "remote: Compressing objects: 100% (1403/1403), done.\u001b[K\n",
            "remote: Total 1527 (delta 117), reused 1526 (delta 116), pack-reused 0 (from 0)\u001b[K\n",
            "Receiving objects: 100% (1527/1527), 6.22 MiB | 9.17 MiB/s, done.\n",
            "Resolving deltas: 100% (117/117), done.\n"
          ]
        }
      ],
      "source": [
        "!git clone https://github.com/anwar11235/market_predictor.git"
      ]
    },
    {
      "cell_type": "code",
      "source": [
        "%cd market_predictor/"
      ],
      "metadata": {
        "colab": {
          "base_uri": "https://localhost:8080/"
        },
        "collapsed": true,
        "id": "J_8_FRAiw6HV",
        "outputId": "7b21ede0-d2a7-496c-8132-9c513f405d7a"
      },
      "execution_count": 3,
      "outputs": [
        {
          "output_type": "stream",
          "name": "stdout",
          "text": [
            "/content/market_predictor\n"
          ]
        }
      ]
    },
    {
      "cell_type": "code",
      "source": [
        "!pwd\n",
        "!ls *.ipynb"
      ],
      "metadata": {
        "colab": {
          "base_uri": "https://localhost:8080/"
        },
        "id": "FN1PsdOgxAZm",
        "outputId": "ee8a97d4-f66b-4cf4-fad3-341562f2ae5f"
      },
      "execution_count": 7,
      "outputs": [
        {
          "output_type": "stream",
          "name": "stdout",
          "text": [
            "/content/market_predictor\n",
            "ls: cannot access '*.ipynb': No such file or directory\n"
          ]
        }
      ]
    },
    {
      "cell_type": "code",
      "source": [
        "!cd notebooks"
      ],
      "metadata": {
        "colab": {
          "base_uri": "https://localhost:8080/"
        },
        "id": "1XJHDjvqxpEk",
        "outputId": "18859902-0245-42d6-8b26-bf35e44ccf3d"
      },
      "execution_count": 8,
      "outputs": [
        {
          "output_type": "stream",
          "name": "stdout",
          "text": [
            "/bin/bash: line 1: cd: notebooks: No such file or directory\n"
          ]
        }
      ]
    },
    {
      "cell_type": "code",
      "source": [
        "!pwd"
      ],
      "metadata": {
        "colab": {
          "base_uri": "https://localhost:8080/"
        },
        "id": "JENQn4A6yylw",
        "outputId": "188c9d68-d28a-45e4-ccf2-eb3ba9799f1a"
      },
      "execution_count": 9,
      "outputs": [
        {
          "output_type": "stream",
          "name": "stdout",
          "text": [
            "/content/market_predictor\n"
          ]
        }
      ]
    },
    {
      "cell_type": "code",
      "source": [
        "%cd market_predictor/"
      ],
      "metadata": {
        "colab": {
          "base_uri": "https://localhost:8080/"
        },
        "id": "jrbR5VlFyzxf",
        "outputId": "3acdd786-4995-4888-e29a-b7ef6e1616b6"
      },
      "execution_count": 10,
      "outputs": [
        {
          "output_type": "stream",
          "name": "stdout",
          "text": [
            "/content/market_predictor/market_predictor\n"
          ]
        }
      ]
    },
    {
      "cell_type": "code",
      "source": [
        "!ls *.ipynb"
      ],
      "metadata": {
        "colab": {
          "base_uri": "https://localhost:8080/"
        },
        "id": "9qCSmV58y4ZP",
        "outputId": "dfc2c582-60e0-47b2-cb9f-c71f64264815"
      },
      "execution_count": 11,
      "outputs": [
        {
          "output_type": "stream",
          "name": "stdout",
          "text": [
            "ls: cannot access '*.ipynb': No such file or directory\n"
          ]
        }
      ]
    },
    {
      "cell_type": "code",
      "source": [
        "%cd notebooks/"
      ],
      "metadata": {
        "colab": {
          "base_uri": "https://localhost:8080/"
        },
        "id": "UhDpbVnNy5_g",
        "outputId": "278c6c7b-61b0-452d-dae0-d772a5e1345b"
      },
      "execution_count": 12,
      "outputs": [
        {
          "output_type": "stream",
          "name": "stdout",
          "text": [
            "/content/market_predictor/market_predictor/notebooks\n"
          ]
        }
      ]
    },
    {
      "cell_type": "code",
      "source": [
        "!ls *ipynb"
      ],
      "metadata": {
        "colab": {
          "base_uri": "https://localhost:8080/"
        },
        "id": "t-xBBN-Dy803",
        "outputId": "3e064c13-ed72-471e-d6b5-36a43537d048"
      },
      "execution_count": 13,
      "outputs": [
        {
          "output_type": "stream",
          "name": "stdout",
          "text": [
            "01_data_collection.ipynb      03_model_development.ipynb  05_backtesting.ipynb\n",
            "02_feature_engineering.ipynb  04_ensemble_training.ipynb\n"
          ]
        }
      ]
    },
    {
      "cell_type": "code",
      "source": [],
      "metadata": {
        "id": "6ajB65Ywy-rP"
      },
      "execution_count": null,
      "outputs": []
    }
  ]
}